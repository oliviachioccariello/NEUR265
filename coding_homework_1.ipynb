{
  "nbformat": 4,
  "nbformat_minor": 0,
  "metadata": {
    "colab": {
      "provenance": [],
      "include_colab_link": true
    },
    "kernelspec": {
      "name": "python3",
      "display_name": "Python 3"
    },
    "language_info": {
      "name": "python"
    }
  },
  "cells": [
    {
      "cell_type": "markdown",
      "metadata": {
        "id": "view-in-github",
        "colab_type": "text"
      },
      "source": [
        "<a href=\"https://colab.research.google.com/github/oliviachioccariello/NEUR265/blob/Coding-Homework/coding_homework_1.ipynb\" target=\"_parent\"><img src=\"https://colab.research.google.com/assets/colab-badge.svg\" alt=\"Open In Colab\"/></a>"
      ]
    },
    {
      "cell_type": "markdown",
      "source": [
        "# Coding Homework #1\n",
        "\n",
        "**Instructions** (Note: it is very important you follow these instructions in order!)\n",
        "\n",
        "1. Run the first *Code Cell* below.\n",
        "\n",
        "2. Make a *Markdown Cell* that contains the following information:\n",
        "  * Your name (small header)\n",
        "  * The name of this class (italicized)\n",
        "  * The date (bolded)\n",
        "\n",
        "3. **Important!**: For each *Code Cell* that you create, make at least one line of code with a `#` in front of it that describes what your code does.\n",
        "\n",
        "4. Make a *Code Cell* that turns `v_rest1.csv` into a `Pandas DataFrame` called `pandas_data1`, and `v_rest2.csv` into a `Pandas DataFrame` called `pandas_data2`. Recall that we covered how to import `.csv` files as `Pandas DataFrames` in our in-class coding activity on January 30th. \n",
        "\n",
        "5. Make a *Code Cell* that converts `pandas_data1` into a `list` variable called `data1`, and converts `pandas_data2` into a `list` variable called `data2`. The following syntax is an example of how to do this:\n",
        "\n",
        "\n",
        "```\n",
        "data1 = pandas_data1.values.tolist()\n",
        "```\n",
        "\n",
        "6. When you convert a `Pandas DataFrame` into a `list`, it brackets each individual element - we don't want that! To get around this issue, make a *Code Cell* that flattens `data1` and `data2` using the `numpy.squeeze()` function. Your first *Code Cell* imported the `NumPy` module as `np`, so we can use the following code to flatten `data1`:\n",
        "\n",
        "\n",
        "```\n",
        "data1 = np.squeeze(data1)\n",
        "```\n",
        "&nbsp;&nbsp;&nbsp;&nbsp;&nbsp;&nbsp;&nbsp;&nbsp;&nbsp;&nbsp;Repeat this for `data2`.\n",
        "\n",
        "7. Make a *Code Cell* that prints the length of `data1`.\n",
        "\n",
        "8. Make a *Code Cell* that prints the 5th, 6th, 7th, and 8th elements of `data2`.\n",
        "\n",
        "9. Make a *Code Cell* that prints the second-to-last and last elements of `data1` (use negative indexing).\n",
        "\n",
        "10. Make a *Code Cell* that prints the `type` of `data2` by using the `type` function.\n",
        "\n",
        "11. The first *Code Cell* you ran imports a module called `matplotlib`. In a new *Code Cell*, use `matplotlib` to make a histogram of `data1`. You can use the syntax `plt.hist()` to do this (remember that the variable you are applying the function to goes inside of the parentheses). \n",
        "\n",
        "12. In a new *Code Cell*, re-make your histogram and use the `plt.xlabel()` and `plt.ylabel()` functions to label your axes.\n",
        "\n",
        "13. In a new *Code Cell*, follow the instructions in steps 11 and 12 to make another histogram with axis labels for `data2`. \n",
        "\n",
        "14. In a new *Markdown Cell*, write a brief description of any differences that you observe between your two histograms. Does one group of cells seem to have a higher/lower resting membrane potential than the other group of cells?\n",
        "\n",
        "15. In a new *Code Cell*, create a new variable called `data3`. Let `data3` be a list containing both `data1` and `data2`. \n",
        "\n",
        "16. Make a *Code Cell* that prints the last element of `data2`. You must index `data3` to do this (hint: we covered this in our in-class coding activity on February 1st).\n",
        "\n",
        "17. Save a copy of this notebook to your GitHub repo with the title \"coding_homework_1.pynb\". "
      ],
      "metadata": {
        "id": "R8xCV2iP1KZ_"
      }
    },
    {
      "cell_type": "code",
      "source": [
        "# Import matplotlib, pandas, and numpy\n",
        "\n",
        "from matplotlib import pyplot as plt\n",
        "\n",
        "import pandas as pd\n",
        "\n",
        "import numpy as np"
      ],
      "metadata": {
        "id": "48IPWJIt59-Y"
      },
      "execution_count": 1,
      "outputs": []
    },
    {
      "cell_type": "markdown",
      "source": [
        "##Olivia Chioccariello \n",
        "*Intro Into Neural Data Analysis*\n",
        "\n",
        "**10 Feburary 2023**\n"
      ],
      "metadata": {
        "id": "QA-cR5vAFS9h"
      }
    },
    {
      "cell_type": "code",
      "source": [
        "#v_rest1.csv and v_rest2.csv into a Pandas DataFrame called pandas_data1 and pandas_data2 \n",
        "url = 'https://raw.githubusercontent.com/oliviachioccariello/NEUR265/main/vrest_1%20-%20vrest_1.csv' #v_rest1.csv\n",
        "cell_types1 = pd.read_csv(url) #read data in pandas \n",
        "pandas_data1 = cell_types1 #names v_rest1.csv data 'pandas_data1'\n",
        "\n",
        "url2 = 'https://raw.githubusercontent.com/oliviachioccariello/NEUR265/main/vrest_2%20-%20vrest_2.csv'\n",
        "cell_types2 = pd.read_csv(url2) #read data in pandas \n",
        "pandas_data2 = cell_types2 #names v_rest2.csv data 'pandas_data2'"
      ],
      "metadata": {
        "id": "_yQ9DYjVFnWe"
      },
      "execution_count": 117,
      "outputs": []
    },
    {
      "cell_type": "code",
      "source": [
        " #converting pandas_data1 and 2 into list variables called 'data1' and 'data2'\n",
        "data1 = pandas_data1.values.tolist() \n",
        "data2 = pandas_data2.values.tolist() "
      ],
      "metadata": {
        "id": "ILIa_BFMJh7y"
      },
      "execution_count": 118,
      "outputs": []
    },
    {
      "cell_type": "code",
      "source": [
        "#flattens data1 and data2\n",
        "data1 = np.squeeze(data1)\n",
        "data2 = np.squeeze(data2)"
      ],
      "metadata": {
        "id": "djTF-lIJKLx_"
      },
      "execution_count": 119,
      "outputs": []
    },
    {
      "cell_type": "code",
      "source": [
        "#print data1\n",
        "data1"
      ],
      "metadata": {
        "id": "Y_NIjvkjL8U-",
        "outputId": "8fdbac3f-4c8f-4c32-bbda-e19e3023f9da",
        "colab": {
          "base_uri": "https://localhost:8080/"
        }
      },
      "execution_count": 120,
      "outputs": [
        {
          "output_type": "execute_result",
          "data": {
            "text/plain": [
              "array([-78.36703312, -74.0453008 , -74.20330106, -67.22196153,\n",
              "       -69.34043473, -66.71902188, -67.16091003, -59.27170269,\n",
              "       -73.32191594, -69.9395607 , -80.13226624, -65.69885381])"
            ]
          },
          "metadata": {},
          "execution_count": 120
        }
      ]
    },
    {
      "cell_type": "code",
      "source": [
        "#print 5th, 6th, 7th, and 8th elements of data2\n",
        "data2[5:9]"
      ],
      "metadata": {
        "id": "Dj3xmERHL8Pg",
        "outputId": "ec532e5d-d3c4-41e8-f370-b1d46d52569f",
        "colab": {
          "base_uri": "https://localhost:8080/"
        }
      },
      "execution_count": 121,
      "outputs": [
        {
          "output_type": "execute_result",
          "data": {
            "text/plain": [
              "array([-71.22202778, -67.3514679 , -71.53594335, -65.50528717])"
            ]
          },
          "metadata": {},
          "execution_count": 121
        }
      ]
    },
    {
      "cell_type": "code",
      "source": [
        "#prints the second-to-last and last elements of data1 \n",
        "data1a = data1[-2]\n",
        "data1b = data1[-1]\n",
        "data1a, data1b"
      ],
      "metadata": {
        "id": "Zg8a1zKRNFXA",
        "outputId": "e642dd3d-b706-40f1-932f-c1aa13a29da7",
        "colab": {
          "base_uri": "https://localhost:8080/"
        }
      },
      "execution_count": 122,
      "outputs": [
        {
          "output_type": "execute_result",
          "data": {
            "text/plain": [
              "(-80.13226624, -65.69885381)"
            ]
          },
          "metadata": {},
          "execution_count": 122
        }
      ]
    },
    {
      "cell_type": "code",
      "source": [
        "#prints type of data2\n",
        "type(data2)"
      ],
      "metadata": {
        "id": "MLbjkI9nNrrQ",
        "outputId": "b4e7b914-84da-4d59-b84c-5a2170e99fe6",
        "colab": {
          "base_uri": "https://localhost:8080/"
        }
      },
      "execution_count": 123,
      "outputs": [
        {
          "output_type": "execute_result",
          "data": {
            "text/plain": [
              "numpy.ndarray"
            ]
          },
          "metadata": {},
          "execution_count": 123
        }
      ]
    },
    {
      "cell_type": "code",
      "source": [
        "#used matplotlib to make a histogram of data1.\n",
        "plt.hist(data1)"
      ],
      "metadata": {
        "id": "ucK9Kq3YN3mP",
        "outputId": "27529378-ae63-435a-b111-ba99300e84e1",
        "colab": {
          "base_uri": "https://localhost:8080/",
          "height": 352
        }
      },
      "execution_count": 124,
      "outputs": [
        {
          "output_type": "execute_result",
          "data": {
            "text/plain": [
              "(array([2., 0., 2., 1., 1., 1., 4., 0., 0., 1.]),\n",
              " array([-80.13226624, -78.04620989, -75.96015353, -73.87409718,\n",
              "        -71.78804082, -69.70198447, -67.61592811, -65.52987176,\n",
              "        -63.4438154 , -61.35775904, -59.27170269]),\n",
              " <a list of 10 Patch objects>)"
            ]
          },
          "metadata": {},
          "execution_count": 124
        },
        {
          "output_type": "display_data",
          "data": {
            "text/plain": [
              "<Figure size 432x288 with 1 Axes>"
            ],
            "image/png": "[encoded data removed]"
          },
          "metadata": {
            "needs_background": "light"
          }
        }
      ]
    },
    {
      "cell_type": "code",
      "source": [
        "#re-made histogram and labeled axes for data1\n",
        "plt.hist(data1)\n",
        "plt.xlabel('RMP')\n",
        "plt.ylabel('Cells')"
      ],
      "metadata": {
        "id": "x6ialI88OhQg",
        "outputId": "75f2cf9a-87f5-42e3-fc20-48b28e9d39e4",
        "colab": {
          "base_uri": "https://localhost:8080/",
          "height": 296
        }
      },
      "execution_count": 125,
      "outputs": [
        {
          "output_type": "execute_result",
          "data": {
            "text/plain": [
              "Text(0, 0.5, 'Cells')"
            ]
          },
          "metadata": {},
          "execution_count": 125
        },
        {
          "output_type": "display_data",
          "data": {
            "text/plain": [
              "<Figure size 432x288 with 1 Axes>"
            ],
            "image/png": "[encoded data removed]"
          },
          "metadata": {
            "needs_background": "light"
          }
        }
      ]
    },
    {
      "cell_type": "code",
      "source": [
        "#used matplotlib to make a histogram of data2.\n",
        "plt.hist(data2)"
      ],
      "metadata": {
        "id": "Uw79f2YFPpB8",
        "outputId": "ddbb9392-7547-493e-f255-5c30ff1f454e",
        "colab": {
          "base_uri": "https://localhost:8080/",
          "height": 352
        }
      },
      "execution_count": 126,
      "outputs": [
        {
          "output_type": "execute_result",
          "data": {
            "text/plain": [
              "(array([5., 1., 1., 1., 0., 1., 0., 0., 1., 2.]),\n",
              " array([-72.33028857, -70.49204878, -68.65380899, -66.81556921,\n",
              "        -64.97732942, -63.13908963, -61.30084984, -59.46261005,\n",
              "        -57.62437027, -55.78613048, -53.94789069]),\n",
              " <a list of 10 Patch objects>)"
            ]
          },
          "metadata": {},
          "execution_count": 126
        },
        {
          "output_type": "display_data",
          "data": {
            "text/plain": [
              "<Figure size 432x288 with 1 Axes>"
            ],
            "image/png": "[encoded data removed]"
          },
          "metadata": {
            "needs_background": "light"
          }
        }
      ]
    },
    {
      "cell_type": "code",
      "source": [
        "#re-made histogram and labeled axes for data2\n",
        "plt.hist(data2)\n",
        "plt.xlabel('RMP')\n",
        "plt.ylabel('Cells')"
      ],
      "metadata": {
        "id": "xWx2RFcKPrC8",
        "outputId": "cfe588aa-332d-4cb8-fe34-c80e3f1c9ebc",
        "colab": {
          "base_uri": "https://localhost:8080/",
          "height": 296
        }
      },
      "execution_count": 127,
      "outputs": [
        {
          "output_type": "execute_result",
          "data": {
            "text/plain": [
              "Text(0, 0.5, 'Cells')"
            ]
          },
          "metadata": {},
          "execution_count": 127
        },
        {
          "output_type": "display_data",
          "data": {
            "text/plain": [
              "<Figure size 432x288 with 1 Axes>"
            ],
            "image/png": "[encoded data removed]"
          },
          "metadata": {
            "needs_background": "light"
          }
        }
      ]
    },
    {
      "cell_type": "markdown",
      "source": [
        "The first set of data (data1) has a higher common resting membrane potential of around -64, while data2's most common RMP is around -72.5 Data1 has the lowest recording RMP of -80 with an average RMP in the range of -75 to -65, while data2 has a lowest RMP of only -72.5 and an average range of -72.5 to -65. Data2 also has the highest RMP recorded of -60, which is lower than data1's highest recorded RMP of -55.\n"
      ],
      "metadata": {
        "id": "rREH29qEQa7t"
      }
    },
    {
      "cell_type": "code",
      "source": [
        "#Created new variable data3 that contains both data1 and data2\n",
        "data3 = data1, data2\n",
        "list(data3)"
      ],
      "metadata": {
        "id": "d7IPNNRfQdaC",
        "outputId": "80af211c-5d90-4fc4-bfc3-add4aed572dc",
        "colab": {
          "base_uri": "https://localhost:8080/"
        }
      },
      "execution_count": 128,
      "outputs": [
        {
          "output_type": "execute_result",
          "data": {
            "text/plain": [
              "[array([-78.36703312, -74.0453008 , -74.20330106, -67.22196153,\n",
              "        -69.34043473, -66.71902188, -67.16091003, -59.27170269,\n",
              "        -73.32191594, -69.9395607 , -80.13226624, -65.69885381]),\n",
              " array([-55.84499168, -70.58038635, -62.85781043, -53.94789069,\n",
              "        -72.25341438, -71.22202778, -67.3514679 , -71.53594335,\n",
              "        -65.50528717, -69.86148453, -54.25391998, -72.33028857])]"
            ]
          },
          "metadata": {},
          "execution_count": 128
        }
      ]
    },
    {
      "cell_type": "code",
      "source": [
        "#Print the last element of data2. \n",
        "data22 = data3[-1]\n",
        "data22[-1]"
      ],
      "metadata": {
        "id": "yET9kP5kQheN",
        "outputId": "390a2cfe-341b-44b9-d05f-cbb120e1529f",
        "colab": {
          "base_uri": "https://localhost:8080/"
        }
      },
      "execution_count": 129,
      "outputs": [
        {
          "output_type": "execute_result",
          "data": {
            "text/plain": [
              "-72.33028857"
            ]
          },
          "metadata": {},
          "execution_count": 129
        }
      ]
    }
  ]
}