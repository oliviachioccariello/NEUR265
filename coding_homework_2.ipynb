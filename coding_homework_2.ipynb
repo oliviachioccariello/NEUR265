{
  "nbformat": 4,
  "nbformat_minor": 0,
  "metadata": {
    "colab": {
      "provenance": [],
      "include_colab_link": true
    },
    "kernelspec": {
      "name": "python3",
      "display_name": "Python 3"
    },
    "language_info": {
      "name": "python"
    }
  },
  "cells": [
    {
      "cell_type": "markdown",
      "metadata": {
        "id": "view-in-github",
        "colab_type": "text"
      },
      "source": [
        "<a href=\"https://colab.research.google.com/github/oliviachioccariello/NEUR265/blob/main/coding_homework_2.ipynb\" target=\"_parent\"><img src=\"https://colab.research.google.com/assets/colab-badge.svg\" alt=\"Open In Colab\"/></a>"
      ]
    },
    {
      "cell_type": "markdown",
      "source": [
        "# Coding Homework #2\n",
        "\n",
        "**Instructions:**\n",
        "\n",
        "1. Make a *Markdown Cell* that contains the following information:\n",
        "- Your name (small header)\n",
        "- The name of this class (italicized)\n",
        "- The date (bolded)\n",
        "\n",
        "2. Make a *Code Cell* that imports <code>numpy</code> as <code>np</code>, <code>matplotlib.pyplot</code> as <code>plt</code>, <code>statistics</code> as <code>st</code>.\n",
        "\n",
        "3. Make a *Code Cell* that imports your <code>v_rest1.csv</code> and <code>v_rest2.csv</code> files as <code>numpy</code> arrays called <code>v_rest1</code> and <code>v_rest2</code> respectively. You're used to doing this with the <code>pd.read_csv</code> function for <code>pandas</code>, but can accomplish the same thing using the <code>np.loadtxt</code> function for <code>numpy</code>.\n",
        "\n",
        "4. Make a *Code Cell* that concatenates <code>v_rest1</code> and <code>v_rest2</code> into a matrix with 2 rows and 13 columns named <code>v_rest</code>.\n",
        "\n",
        "5. Make a *Code Cell* that prints the <code>size</code> of <code>v_rest</code>.\n",
        "\n",
        "6. Make a *Code Cell* that returns the first row of <code>v_rest</code>.\n",
        "\n",
        "7. Make a *Code Cell* that returns the sum of the values in the third column of <code>v_rest</code>. You can accomplish this by using <code>v_rest[].sum()</code>, with your index inside of the brackets. As an example, if I wanted to return the sum of the first row of <code>v_rest</code>, I could use <code>v_rest[0].sum()</code> to get my answer.\n",
        "\n",
        "8. Make a *Code Cell* that returns the second-to-last value in the second row of <code>v_rest</code> (use negative indexing for the column value).\n",
        "\n",
        "9. Create a *Code Cell* that makes a histogram of the values in the first row of <code>v_rest</code> (you can do this by using the <code>plt.hist()</code> function). Label your axes.\n",
        "\n",
        "10. Create a *Code Cell* that takes the mean of the values in the first row of <code>v_rest</code>, and assigns the mean to a variable called <code>v_rest_mean_1</code>. Do the same thing for the second row of <code>v_rest</code>, and assign the mean value of the second row to a variable called <code>v_rest_mean_2</code>. You can get the means by using the <code>st.mean()</code> function (remember to put what you want the mean *of* inside the parentheses of the function).\n",
        "\n",
        "11. Create a *Markdown Cell* that describes the difference in means between the two rows. Which one is bigger?\n",
        "\n",
        "12. How can we test whether the difference in means is *meaningful* (statistically significant)? When we're comparing two means, we can use a t-test (assuming the data are normally distributed). To use a t-test on our data, we will first need to import the <code>scipy</code> package. Create a new *Code Cell* that runs the following:\n",
        "\n",
        "<code>\n",
        "import scipy.stats as stats\n",
        "</code>\n",
        "\n",
        "13. Now, we can perform a t-test on the two rows of <code>v_rest</code>. To do this, create a new *Code Cell* that uses the <code>stats.ttest_ind()</code> function - for example:\n",
        "\n",
        "<code>\n",
        "stats.ttest_ind(row1, row2)\n",
        "</code>\n",
        "\n",
        "Replace <code>row1</code> and <code>row2</code> in this case with the first and second rows, respectively, of <code>v_rest</code>.\n",
        "\n",
        "14. Make a *Markdown Cell* that describes the results of your t-test. You should have <code>statistic</code> variable and a <code>pvalue</code> variable. The way to interpret your p-value is as a probability - specifically, the probability that the mean of one distribution could be found in the second distribution. Typically, results are considered to be \"statistically significant\" if the probability is lower than 5% - or 0.05. What is your p-value? Based on this p-value, do you think it is likely that the means are significantly different, or do you think it is likely that they are not?\n",
        "\n",
        "15. Make sure to add at least one line with a <code>#</code> in front of it to each *Code Cell* to describe what each cell does.\n",
        "\n",
        "16. Save a copy of this notebook to your GitHub repo with the title \"coding_homework_2.ipynb\"."
      ],
      "metadata": {
        "id": "CXEcCBSA_prs"
      }
    },
    {
      "cell_type": "markdown",
      "source": [
        "Olivia Chioccariello\n",
        "\n",
        "*Neural Data and Analysis*\n",
        "\n",
        "**Feburary 23rd 2023**"
      ],
      "metadata": {
        "id": "fIx3pLF_yzGV"
      }
    },
    {
      "cell_type": "code",
      "source": [
        "import numpy as np   #importing numpy \n",
        "import matplotlib.pyplot as plt  #importing matplotlib\n",
        "import statistics as st #importing statistcs "
      ],
      "metadata": {
        "id": "bq6Js6m5zBXZ"
      },
      "execution_count": 1,
      "outputs": []
    },
    {
      "cell_type": "code",
      "source": [
        "url1 = 'https://raw.githubusercontent.com/oliviachioccariello/NEUR265/main/vrest_1%20-%20vrest_1.csv'\n",
        "v_rest1 = np.loadtxt(url1) #importing v_rest1.csv as v_rest1\n",
        "\n",
        "url2 = 'https://raw.githubusercontent.com/oliviachioccariello/NEUR265/main/vrest_2%20-%20vrest_2.csv'\n",
        "v_rest2 = np.loadtxt(url2) #importing v_rest2.csv as v_rest2"
      ],
      "metadata": {
        "id": "JS1VyUI8zvCv"
      },
      "execution_count": 2,
      "outputs": []
    },
    {
      "cell_type": "code",
      "source": [
        "v_rest = np.array([v_rest1, v_rest2]) #combined v_rest1 and v_rest 2 into a matrix with 2 rows and 13 columns named v_rest\n",
        "print(v_rest)\n",
        "print(v_rest.shape) #checked the row and column amount of my v_rest matrix"
      ],
      "metadata": {
        "colab": {
          "base_uri": "https://localhost:8080/"
        },
        "id": "Cys1R1xOUhHi",
        "outputId": "f71f6440-1851-4f77-f324-0b6d51605a89"
      },
      "execution_count": 3,
      "outputs": [
        {
          "output_type": "stream",
          "name": "stdout",
          "text": [
            "[[-65.62478892 -78.36703312 -74.0453008  -74.20330106 -67.22196153\n",
            "  -69.34043473 -66.71902188 -67.16091003 -59.27170269 -73.32191594\n",
            "  -69.9395607  -80.13226624 -65.69885381]\n",
            " [-73.8592126  -55.84499168 -70.58038635 -62.85781043 -53.94789069\n",
            "  -72.25341438 -71.22202778 -67.3514679  -71.53594335 -65.50528717\n",
            "  -69.86148453 -54.25391998 -72.33028857]]\n",
            "(2, 13)\n"
          ]
        }
      ]
    },
    {
      "cell_type": "code",
      "source": [
        "print(v_rest.size) #print the size of v_rest matrix "
      ],
      "metadata": {
        "colab": {
          "base_uri": "https://localhost:8080/"
        },
        "id": "HB8G2KCyaN4U",
        "outputId": "6ecef347-8aa0-4476-85e5-72d6c6fa93c2"
      },
      "execution_count": 4,
      "outputs": [
        {
          "output_type": "stream",
          "name": "stdout",
          "text": [
            "26\n"
          ]
        }
      ]
    },
    {
      "cell_type": "code",
      "source": [
        "v_rest[0] #print the first row of v_rest"
      ],
      "metadata": {
        "colab": {
          "base_uri": "https://localhost:8080/"
        },
        "id": "mgjHH9noaYd2",
        "outputId": "a0132b03-22f4-48fa-9426-121b9a6c3b35"
      },
      "execution_count": 5,
      "outputs": [
        {
          "output_type": "execute_result",
          "data": {
            "text/plain": [
              "array([-65.62478892, -78.36703312, -74.0453008 , -74.20330106,\n",
              "       -67.22196153, -69.34043473, -66.71902188, -67.16091003,\n",
              "       -59.27170269, -73.32191594, -69.9395607 , -80.13226624,\n",
              "       -65.69885381])"
            ]
          },
          "metadata": {},
          "execution_count": 5
        }
      ]
    },
    {
      "cell_type": "code",
      "source": [
        "v_rest[:,3].sum() #returns the sum of values in third column of v_rest"
      ],
      "metadata": {
        "colab": {
          "base_uri": "https://localhost:8080/"
        },
        "id": "EjEcZcbsa7gF",
        "outputId": "3d3c3dda-c7c8-451a-b870-2f23ae59b033"
      },
      "execution_count": 6,
      "outputs": [
        {
          "output_type": "execute_result",
          "data": {
            "text/plain": [
              "-137.06111149"
            ]
          },
          "metadata": {},
          "execution_count": 6
        }
      ]
    },
    {
      "cell_type": "code",
      "source": [
        "v_rest[-2] #return values in second-to-last row of v_rest"
      ],
      "metadata": {
        "colab": {
          "base_uri": "https://localhost:8080/"
        },
        "id": "7cbPRx0fb2IP",
        "outputId": "26f30c36-4fe2-4783-a968-db8f06837ba9"
      },
      "execution_count": 7,
      "outputs": [
        {
          "output_type": "execute_result",
          "data": {
            "text/plain": [
              "array([-65.62478892, -78.36703312, -74.0453008 , -74.20330106,\n",
              "       -67.22196153, -69.34043473, -66.71902188, -67.16091003,\n",
              "       -59.27170269, -73.32191594, -69.9395607 , -80.13226624,\n",
              "       -65.69885381])"
            ]
          },
          "metadata": {},
          "execution_count": 7
        }
      ]
    },
    {
      "cell_type": "code",
      "source": [
        "plt.hist(v_rest[0]) #plotting historgram with values in the first row of v_rest\n",
        "plt.xlabel ('intervals') #name x label\n",
        "plt.ylabel ('counts') #name y label"
      ],
      "metadata": {
        "colab": {
          "base_uri": "https://localhost:8080/",
          "height": 297
        },
        "id": "pUPR1jBecQR7",
        "outputId": "4f63a950-9043-4997-88e8-355a5c8ca50b"
      },
      "execution_count": 8,
      "outputs": [
        {
          "output_type": "execute_result",
          "data": {
            "text/plain": [
              "Text(0, 0.5, 'counts')"
            ]
          },
          "metadata": {},
          "execution_count": 8
        },
        {
          "output_type": "display_data",
          "data": {
            "text/plain": [
              "<Figure size 432x288 with 1 Axes>"
            ],
            "image/png": "[encoded data removed]"
          },
          "metadata": {
            "needs_background": "light"
          }
        }
      ]
    },
    {
      "cell_type": "code",
      "source": [
        "v_rest_mean_1 = st.mean(v_rest[0])    #calculate the mean of row 1\n",
        "v_rest_mean_2 = st.mean(v_rest[1])      #calculate the mean of row 2\n",
        "print(v_rest_mean_1)\n",
        "print(v_rest_mean_2)"
      ],
      "metadata": {
        "id": "7_sFqHW1P4S9",
        "outputId": "2806ddc4-b8dc-442c-d448-a59882ba4ced",
        "colab": {
          "base_uri": "https://localhost:8080/"
        }
      },
      "execution_count": 9,
      "outputs": [
        {
          "output_type": "stream",
          "name": "stdout",
          "text": [
            "-70.08054241923077\n",
            "-66.26185580076923\n"
          ]
        }
      ]
    },
    {
      "cell_type": "markdown",
      "source": [
        "The mean of the first row is about 4 less than the second row, making the mean of the second row is bigger.  "
      ],
      "metadata": {
        "id": "DFtIRkrWTJo3"
      }
    },
    {
      "cell_type": "code",
      "source": [
        "import scipy.stats as stats   #import stats "
      ],
      "metadata": {
        "id": "_BmceOYJa4tH"
      },
      "execution_count": 10,
      "outputs": []
    },
    {
      "cell_type": "code",
      "source": [
        "stats.ttest_ind(v_rest[0],v_rest[1]) #preform a t-test"
      ],
      "metadata": {
        "id": "NeERUVGBbGIj",
        "outputId": "3f44c0ab-2656-43ea-bad0-380db77a035c",
        "colab": {
          "base_uri": "https://localhost:8080/"
        }
      },
      "execution_count": 12,
      "outputs": [
        {
          "output_type": "execute_result",
          "data": {
            "text/plain": [
              "Ttest_indResult(statistic=-1.4864748182808045, pvalue=0.15017349062342772)"
            ]
          },
          "metadata": {},
          "execution_count": 12
        }
      ]
    },
    {
      "cell_type": "markdown",
      "source": [
        "My t-test resulted in a probability of 0.15 for every one. The probability is higher than 5% and therefore means that my results are not statistically significant. My statisic score was around 1.5."
      ],
      "metadata": {
        "id": "P7uVw4IgcTOh"
      }
    }
  ]
}