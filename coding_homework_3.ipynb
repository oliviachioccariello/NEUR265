{
  "nbformat": 4,
  "nbformat_minor": 0,
  "metadata": {
    "colab": {
      "provenance": [],
      "include_colab_link": true
    },
    "kernelspec": {
      "name": "python3",
      "display_name": "Python 3"
    },
    "language_info": {
      "name": "python"
    }
  },
  "cells": [
    {
      "cell_type": "markdown",
      "metadata": {
        "id": "view-in-github",
        "colab_type": "text"
      },
      "source": [
        "<a href=\"https://colab.research.google.com/github/oliviachioccariello/NEUR265/blob/main/coding_homework_3.ipynb\" target=\"_parent\"><img src=\"https://colab.research.google.com/assets/colab-badge.svg\" alt=\"Open In Colab\"/></a>"
      ]
    },
    {
      "cell_type": "markdown",
      "source": [
        "# Coding Homework #3\n",
        "\n",
        "**Instructions**\n",
        "\n",
        "1. Make a *Markdown Cell* that contains the following information:\n",
        "- Your name (small header)\n",
        "- The name of this class (italicized)\n",
        "- The date (bolded)\n",
        "\n",
        "2. Make a *Code Cell* that imports <code>numpy</code> as <code>np</code>, <code>matplotlib.pyplot</code> as <code>plt</code>, and <code>scipy.stats</code> as <code>stats</code>.\n",
        "\n",
        "3. Make a *Code Cell* that imports your <code>v_rest1.csv</code> and <code>v_rest2.csv</code> variables as <code>numpy</code> arrays called <code>v_rest1</code> and <code>v_rest2</code> respectively.\n",
        "\n",
        "4. Make a *Code Cell* that does the following:\n",
        "  \n",
        "  a. Finds the means of <code>v_rest1</code> and <code>v_rest2</code>.\n",
        "  \n",
        "  b. Performs a t-test to test the null hypothesis that the means of <code>v_rest1</code> and <code>v_rest2</code> come from different distributions.\n",
        "\n",
        "  c. Plots a histogram of <code>v_rest1</code> in one subplot, and a histogram of <code>v_rest2</code> in another subplot if the p-value of the t-test is > 0.05. You can make two subplots using the syntax <code>fig, ax = plt.subplots(1,1)</code>.\n",
        "\n",
        "  d. Labels the y-axis and x-axis of your histograms (recall that <code>ax.ylabel</code> and <code>ax.xlabel</code> are the methods that let you accomplish this).\n",
        "\n",
        "5. Make a *Code Cell* that defines a function called <code>vrestHist()</code>. This function should execute the code in step 4 when called. Remember to tell python that you want the function to show your plots when you call it!\n",
        "\n",
        "6. Make a *Code Cell* that calls <code>vrestHist()</code>.\n",
        "\n",
        "7. Make a *Code Cell* that does the following:\n",
        "\n",
        "    a. Loops through each column of <code>v_rest1</code> and <code>v_rest2</code> and makes a scatter plot with <code>v_rest1</code> on the x-axis and <code>v_rest2</code> on the y-axis. \n",
        "\n",
        "    b. Each iteration of your loop should plot a different point on the scatter plot. At the end of your loop, you should have only one scatter plot with number of data points equal to the length of <code>v_rest1</code> and <code>v_rest2</code>.\n",
        "\n",
        "    c. Your loop should plot a <font color = 'red'>red</font> dot if *both* values in <code>v_rest1</code> and <code>v_rest2</code> are greater than -60, a <font color = 'green'>green</font> dot if values in <code>v_rest1</code> are greater than -60, but values in <code>v_rest2</code> are less than -60, and a <font color = 'blue'>blue</font> dot if *both* values in <code>v_rest1</code> and <code>v_rest2</code> are less than -60. \n",
        "\n",
        "    d. Labels your y-axis and your x-axis (this code should be outside of your loop).\n",
        "\n",
        "8. Make a *Code Cell* that defines a function called <code>vrestScatter()</code>. This function should execute the code in step 7 when called. Remember to tell python that you want the function to show your plot when you call it!\n",
        "\n",
        "9. Save a copy of this notebook to your GitHub repo with the title \"coding_homework_3.ipynb\"."
      ],
      "metadata": {
        "id": "zbzMCJlMN3ph"
      }
    },
    {
      "cell_type": "markdown",
      "source": [
        "##Olivia Chioccariello##\n",
        "*Neur 265*\n",
        "\n",
        "**3/2/2023**\n"
      ],
      "metadata": {
        "id": "DLGnOUvr4OpE"
      }
    },
    {
      "cell_type": "code",
      "source": [
        "import numpy as np #import numpy\n",
        "import matplotlib.pyplot as plt   #import matplot\n",
        "import scipy.stats as stats   #import scipy"
      ],
      "metadata": {
        "id": "spNWsspC4jTd"
      },
      "execution_count": null,
      "outputs": []
    },
    {
      "cell_type": "code",
      "source": [
        "url1 = 'https://raw.githubusercontent.com/oliviachioccariello/NEUR265/main/vrest_1%20-%20vrest_1.csv'\n",
        "v_rest1 = np.loadtxt(url1) #importing v_rest1.csv as v_rest1\n",
        "\n",
        "url2 = 'https://raw.githubusercontent.com/oliviachioccariello/NEUR265/main/vrest_2%20-%20vrest_2.csv'\n",
        "v_rest2 = np.loadtxt(url2) #importing v_rest2.csv as v_rest2\n",
        "     "
      ],
      "metadata": {
        "id": "pH_y9OLN45RM"
      },
      "execution_count": null,
      "outputs": []
    },
    {
      "cell_type": "code",
      "source": [
        "print(stats.describe(v_rest1)) #find mean of v_rest1 and 2\n",
        "print(stats.describe(v_rest2))\n",
        "\n",
        "stats.ttest_ind(v_rest1, v_rest2) #test null hypothesis that means of v_rest1 and v_rest2 are from different distributions\n",
        "ttest = stats.ttest_ind(v_rest1, v_rest2)\n",
        "pv = ttest.pvalue\n",
        "if pv > 0.05 :  #if p value is > 0.05, plot graph\n",
        "  fig,ax = plt.subplots(2,1) #creating subplot figures\n",
        "  ax[0].hist(v_rest1) #plot v_rest1 on one subplot\n",
        "  ax[0].set_ylabel('frequency')\n",
        "  ax[0].set_xlabel('action potential')\n",
        "\n",
        "  ax[1].hist(v_rest2) #plot v_rest2 on second subplot\n",
        "  ax[1].set_ylabel('frequency')\n",
        "  ax[1].set_xlabel('action potential')\n",
        "\n",
        "  plt.show()\n"
      ],
      "metadata": {
        "colab": {
          "base_uri": "https://localhost:8080/",
          "height": 334
        },
        "id": "cyn2fHhK5V23",
        "outputId": "48e83516-9547-4cca-d43b-f7731d7a1a8e"
      },
      "execution_count": 30,
      "outputs": [
        {
          "output_type": "stream",
          "name": "stdout",
          "text": [
            "DescribeResult(nobs=13, minmax=(-80.13226624, -59.27170269), mean=-70.08054241923077, variance=33.11443118328251, skewness=-0.10424111780936712, kurtosis=-0.5096191842091558)\n",
            "DescribeResult(nobs=13, minmax=(-73.8592126, -53.94789069), mean=-66.26185580076923, variance=52.679442707743256, skewness=0.7927412419586354, kurtosis=-0.9321436166273775)\n"
          ]
        },
        {
          "output_type": "display_data",
          "data": {
            "text/plain": [
              "<Figure size 432x288 with 2 Axes>"
            ],
            "image/png": "[encoded data removed]"
          },
          "metadata": {
            "needs_background": "light"
          }
        }
      ]
    },
    {
      "cell_type": "code",
      "source": [
        "def vrestHist() :   #defining variable vrestHist() to code for everything in previous code box\n",
        "  print(stats.describe(v_rest1)) #find mean of v_rest1 and 2\n",
        "  print(stats.describe(v_rest2))\n",
        "\n",
        "  stats.ttest_ind(v_rest1, v_rest2) #test null hypothesis that means of v_rest1 and v_rest2 are from different distributions\n",
        "  ttest = stats.ttest_ind(v_rest1, v_rest2)\n",
        "  pv = ttest.pvalue\n",
        "  if pv > 0.05 :  #if p value is > 0.05, plot graph\n",
        "    fig,ax = plt.subplots(2,1) #creating subplot figures\n",
        "    ax[0].hist(v_rest1) #plot v_rest1 on one subplot\n",
        "    ax[0].set_ylabel('frequency')\n",
        "    ax[0].set_xlabel('action potential')\n",
        "\n",
        "    ax[1].hist(v_rest2) #plot v_rest2 on second subplot\n",
        "    ax[1].set_ylabel('frequency')\n",
        "    ax[1].set_xlabel('action potential')\n",
        "\n",
        "  plt.show()\n",
        "\n"
      ],
      "metadata": {
        "id": "JYpCyTPr9aqO"
      },
      "execution_count": null,
      "outputs": []
    },
    {
      "cell_type": "code",
      "source": [
        "vrestHist() #run vrestHist()"
      ],
      "metadata": {
        "colab": {
          "base_uri": "https://localhost:8080/",
          "height": 334
        },
        "id": "4YcjOouzBi_S",
        "outputId": "601ad703-47c7-43e8-bac3-00c2bbc5af50"
      },
      "execution_count": null,
      "outputs": [
        {
          "output_type": "stream",
          "name": "stdout",
          "text": [
            "DescribeResult(nobs=13, minmax=(-80.13226624, -59.27170269), mean=-70.08054241923077, variance=33.11443118328251, skewness=-0.10424111780936712, kurtosis=-0.5096191842091558)\n",
            "DescribeResult(nobs=13, minmax=(-73.8592126, -53.94789069), mean=-66.26185580076923, variance=52.679442707743256, skewness=0.7927412419586354, kurtosis=-0.9321436166273775)\n"
          ]
        },
        {
          "output_type": "display_data",
          "data": {
            "text/plain": [
              "<Figure size 432x288 with 2 Axes>"
            ],
            "image/png": "[encoded data removed]"
          },
          "metadata": {
            "needs_background": "light"
          }
        }
      ]
    },
    {
      "cell_type": "code",
      "source": [
        "length1= len(v_rest1) #naming the length \n",
        "length2= len(v_rest2)\n",
        "\n",
        "for i in range(length1): \n",
        "  if v_rest1[i] > -60 and v_rest2[i] > -60 :  #coding for an action if v_rest1 and v_rest 2 are both > - 60\n",
        "    plt.scatter(v_rest1[i],v_rest2[i],color = \"red\") #Coding for red dots on scatter plot\n",
        "  elif v_rest1[i] > -60 and v_rest2[i] < -60 :  #coding for an action if v_rest1 > -60 but and v_rest2 < - 60\n",
        "    plt.scatter(v_rest1[i],v_rest2[i],color = \"green\") #Coding for green dots on scatter plot\n",
        "  if v_rest1[i] < -60 and v_rest2[i] < -60:  #coding for an action if v_rest1 and v_rest 2 are both < - 60\n",
        "    plt.scatter(v_rest1[i],v_rest2[i],color = \"blue\") #Coding blue red dots on scatter plot\n",
        "\n",
        "plt.xlabel('Resting Membrane Potential of v_rest1') #naming x axis\n",
        "plt.ylabel('Resting Membrane Potential of v_rest2') #naming y axis"
      ],
      "metadata": {
        "colab": {
          "base_uri": "https://localhost:8080/",
          "height": 297
        },
        "id": "S1HTDUfvEsDO",
        "outputId": "f1a8dbd8-0069-4c4f-c873-29abd7eeab35"
      },
      "execution_count": null,
      "outputs": [
        {
          "output_type": "execute_result",
          "data": {
            "text/plain": [
              "Text(0, 0.5, 'Resting Membrane Potential of v_rest2')"
            ]
          },
          "metadata": {},
          "execution_count": 13
        },
        {
          "output_type": "display_data",
          "data": {
            "text/plain": [
              "<Figure size 432x288 with 1 Axes>"
            ],
            "image/png": "[encoded data removed]"
          },
          "metadata": {
            "needs_background": "light"
          }
        }
      ]
    },
    {
      "cell_type": "code",
      "source": [
        "def vrestScatter():    #defining vrestScatter function to code for the scatter plot above when ran\n",
        "  length1= len(v_rest1) \n",
        "  length2= len(v_rest2)\n",
        "\n",
        "  for i in range(length1): \n",
        "    if v_rest1[i] > -60 and v_rest2[i] > -60 :\n",
        "      plt.scatter(v_rest1[i],v_rest2[i],color = \"red\")\n",
        "    elif v_rest1[i] > -60 and v_rest2[i] < -60 :\n",
        "      plt.scatter(v_rest1[i],v_rest2[i],color = \"green\")\n",
        "    if v_rest1[i] < -60 and v_rest2[i] < -60:\n",
        "      plt.scatter(v_rest1[i],v_rest2[i],color = \"blue\")\n",
        "\n",
        "  plt.xlabel('Resting Membrane Potential of v_rest1')\n",
        "  plt.ylabel('Resting Membrane Potential of v_rest2')\n",
        "  plt.show()"
      ],
      "metadata": {
        "id": "NMZKjeZCK8wy"
      },
      "execution_count": null,
      "outputs": []
    }
  ]
}